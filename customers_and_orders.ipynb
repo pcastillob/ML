{
  "cells": [
    {
      "cell_type": "markdown",
      "metadata": {
        "id": "piiX_CRNFYUi"
      },
      "source": [
        "# Technical Challenge ! Custiomers and Orders - The lifeblood of any business!\n",
        "\n",
        "This notebook depends on two data files: customers.scv and orders.csv. These files are hosted in the cloud (or Github), so for simplicity, we are providing you with the code to download and save the two files in a folder called 'sample_data' which lives within this notebook session (not on your local computer nor Google Drive).\n",
        "\n",
        "![sample_data folder in notebook session](https://raw.githubusercontent.com/anyoneai/notebooks/main/customers_and_orders/images/sample_data_folder.png)\n",
        "\n",
        "Please execute the first code snippet before moving to the rest of the exercise as this code will import the data from the files for you to be able to execute the rest of the exercise.\n",
        "\n",
        "Remember as we said in the previous lecture, you have to save this notebook into your Google Drive by going to menu File/Save a Copy In Drive, or clicking in the button \"Copy to Drive\". This way, you will not lose any work you've done and the file will persist with your latest changes in your Google Drive. Also we recommend you to rename your .ipynb in your Google Drive, so you can easily find it in the future."
      ]
    },
    {
      "cell_type": "code",
      "execution_count": 1,
      "metadata": {
        "colab": {
          "base_uri": "https://localhost:8080/"
        },
        "id": "MWpVO242FQHC",
        "outputId": "2388bc16-8751-4490-cf80-8012a8329ba2"
      },
      "outputs": [
        {
          "output_type": "stream",
          "name": "stdout",
          "text": [
            "Customers and orders CSV files have been added './sample_data'\n"
          ]
        }
      ],
      "source": [
        "import requests\n",
        "\n",
        "def import_data_files():\n",
        "  r = requests.get('https://raw.githubusercontent.com/anyoneai/notebooks/main/customers_and_orders/data/customers.csv')\n",
        "  with open('./sample_data/customers.csv', 'wb') as f:\n",
        "    f.write(r.content)\n",
        "\n",
        "  r = requests.get('https://raw.githubusercontent.com/anyoneai/notebooks/main/customers_and_orders/data/orders.csv')\n",
        "  with open('./sample_data/orders.csv', 'wb') as f:\n",
        "    f.write(r.content)\n",
        "  \n",
        "import_data_files()\n",
        "print(\"Customers and orders CSV files have been added './sample_data'\")"
      ]
    },
    {
      "cell_type": "markdown",
      "metadata": {
        "id": "JQAduY-RWKyB"
      },
      "source": [
        "# Exercise 1: Processing Customers data (difficulty medium)\n",
        "\n",
        "The sample customer data in 'customers.csv' file has just 5 columns: CustomerId, First Name, Last Name, City and State\n",
        "\n",
        "![Data sample](https://raw.githubusercontent.com/anyoneai/notebooks/main/customers_and_orders/images/customers.png)\n",
        "\n",
        "We strongly recommend that you complete from the [Prep Course: Intro to Python](https://colab.research.google.com/github/anyoneai/notebooks/blob/main/python3_crash_course.ipynb) the following section:\n",
        "- Section 7: File I/O (to understand how to read CSV file) \n",
        "- Section 6: For Loop (to navigate the contents of the CSV file)\n",
        "- Section 5: Tuples, Lists, and Dictionaries (to manipulate the data of the CSV file)\n",
        "\n",
        "With this, we hope you can complete this exercise successfully. Although if you want to solve this with libraries or any other way, you are welcome to do it your way.\n",
        "\n",
        "*Hint:* We advise you to take a look at the data before you start.\n",
        "**if you want to manually take a look at the data before you start, please see the content of the data [here](https://github.com/anyoneai/notebooks/blob/main/customers_and_orders/data/customers.csv).\n",
        "\n",
        "*Hint*: There are many ways to do this exercise you can do your own, although here's some help. You can solve this exercise reading and parsing CSV files, structuring data into dictionaries, and using for loops to navigate the contents\n",
        "\n",
        "*Hint*: Also, keep in mind that data might not be clean and you might have to figure out how to deal with that data from the code, without having to modify the data source.\n",
        "\n",
        "Below are the 5 questions you'll have to answer to pass the evaluation:"
      ]
    },
    {
      "cell_type": "markdown",
      "metadata": {
        "id": "kJq7S8sBfbOW"
      },
      "source": [
        "**Question 1:** How many customers are in the file?\n",
        "(as help, we have added some comments and starter code to help you structure the solution)"
      ]
    },
    {
      "cell_type": "code",
      "execution_count": 75,
      "metadata": {
        "colab": {
          "base_uri": "https://localhost:8080/"
        },
        "id": "oMnUFBFb2RUb",
        "outputId": "2956a63d-0e36-4f6a-cf41-e9231f21bdcc"
      },
      "outputs": [
        {
          "output_type": "stream",
          "name": "stdout",
          "text": [
            "(602, 5)\n",
            "(602, 5)\n",
            "Unique clients ID in the csv: 471\n",
            "All done!\n"
          ]
        }
      ],
      "source": [
        "from os.path import exists\n",
        "import csv\n",
        "import pandas as pd\n",
        "\n",
        "# check if file can be found and open the file\n",
        "datafile = \"./sample_data/customers.csv\"\n",
        "if not exists(datafile):\n",
        "  raise SystemExit(\"You should run the first code cell and download the dataset files!\")\n",
        "\n",
        "# customers file is in the sample_data folder and can be opened.\n",
        "# Using csv reader is one way of dealing with the file \n",
        "# but it's up to you how you want to proceed\n",
        "clients_frame = pd.read_csv('./sample_data/customers.csv')\n",
        "print(clients_frame.shape)\n",
        "clients_frame = clients_frame.drop_duplicates()\n",
        "print(clients_frame.shape)\n",
        "# there doesn't seem to be duplicated customers , but there are duplicated customers ID,\n",
        "# this could be the case if a company doesn't have a good consistency with the data\n",
        "print(f'Unique clients ID in the csv: {len(clients_frame.CustomerID.unique())}')\n",
        "print(\"All done!\")"
      ]
    },
    {
      "cell_type": "markdown",
      "metadata": {
        "id": "uffBnNgz_570"
      },
      "source": [
        "**Question 2:** In how many different states do the customers live in?"
      ]
    },
    {
      "cell_type": "code",
      "execution_count": 70,
      "metadata": {
        "id": "Bi_yid0sMe3-",
        "colab": {
          "base_uri": "https://localhost:8080/"
        },
        "outputId": "911233f9-59b3-4d6c-842c-1f5b3a87de06"
      },
      "outputs": [
        {
          "output_type": "stream",
          "name": "stdout",
          "text": [
            "['CA' 'AZ' 'NV' 'FL' 'CA           ' 'WA' 'NH' 'ID' 'CO' 'Ca' 'TX' 'NM'\n",
            " 'OR' 'UT' 'MA' 'IN']\n",
            "['CA' 'AZ' 'NV' 'FL' 'WA' 'NH' 'ID' 'CO' 'TX' 'NM' 'OR' 'UT' 'MA' 'IN']\n",
            "Number of different states: 14\n"
          ]
        }
      ],
      "source": [
        "#viz the data to get a better undertanding \n",
        "print(clients_frame['State'].unique())\n",
        "#there are states with error:'CA' is the same as 'CA           ' is the same as 'Ca'\n",
        "#so, lets transform the data to the correct format\n",
        "states = clients_frame['State'].str.strip().str.upper()\n",
        "clients_frame['State'] = states\n",
        "print(clients_frame['State'].unique())\n",
        "#data ready to get get the information required\n",
        "print(f'Number of different states: {len(clients_frame.State.unique())}') "
      ]
    },
    {
      "cell_type": "markdown",
      "metadata": {
        "id": "DC59SZYiMfNY"
      },
      "source": [
        "**Question 3** What is the state with most customers?"
      ]
    },
    {
      "cell_type": "code",
      "execution_count": 71,
      "metadata": {
        "id": "tfGU3w-OMhA9",
        "colab": {
          "base_uri": "https://localhost:8080/"
        },
        "outputId": "1307b754-72b0-4a52-a5b3-1cb2d3f6c6fd"
      },
      "outputs": [
        {
          "output_type": "stream",
          "name": "stdout",
          "text": [
            "       CustomerID  FirstName  LastName  City\n",
            "State                                       \n",
            "CA            569        569       569   569\n",
            "NV              8          8         8     8\n",
            "AZ              6          6         6     6\n",
            "CO              3          3         3     3\n",
            "FL              3          3         3     3\n",
            "NM              3          3         3     3\n",
            "TX              2          2         2     2\n",
            "UT              2          2         2     2\n",
            "ID              1          1         1     1\n",
            "IN              1          1         1     1\n",
            "MA              1          1         1     1\n",
            "NH              1          1         1     1\n",
            "OR              1          1         1     1\n",
            "WA              1          1         1     1\n",
            "CustomerID    CA\n",
            "FirstName     CA\n",
            "LastName      CA\n",
            "City          CA\n",
            "dtype: object\n"
          ]
        }
      ],
      "source": [
        "#Data viz to get a better undestanding\n",
        "print(clients_frame.groupby('State').count().sort_values('CustomerID',ascending=False))\n",
        "#print the state with max number of customers\n",
        "print(clients_frame.groupby('State').count().idxmax())"
      ]
    },
    {
      "cell_type": "markdown",
      "metadata": {
        "id": "7mcM6cUAMhLB"
      },
      "source": [
        "**Question 4** What is the state with the least customers?"
      ]
    },
    {
      "cell_type": "code",
      "execution_count": 67,
      "metadata": {
        "id": "8T0Ka2RqMi3P",
        "colab": {
          "base_uri": "https://localhost:8080/"
        },
        "outputId": "4fe313d6-2988-4577-94cd-fede80bc64fd"
      },
      "outputs": [
        {
          "output_type": "stream",
          "name": "stdout",
          "text": [
            "       CustomerID  FirstName  LastName  City\n",
            "State                                       \n",
            "ID              1          1         1     1\n",
            "IN              1          1         1     1\n",
            "MA              1          1         1     1\n",
            "NH              1          1         1     1\n",
            "OR              1          1         1     1\n",
            "WA              1          1         1     1\n",
            "TX              2          2         2     2\n",
            "UT              2          2         2     2\n",
            "CO              3          3         3     3\n",
            "FL              3          3         3     3\n",
            "NM              3          3         3     3\n",
            "AZ              6          6         6     6\n",
            "NV              8          8         8     8\n",
            "CA            569        569       569   569\n",
            "CustomerID    ID\n",
            "FirstName     ID\n",
            "LastName      ID\n",
            "City          ID\n",
            "dtype: object\n"
          ]
        }
      ],
      "source": [
        "#Data viz to get a better undestanding\n",
        "print(clients_frame.groupby('State').count().sort_values('CustomerID'))\n",
        "#Thank to this, we can see that there are 6 states with just 1 customer\n",
        "\n",
        "#print the state with min number of customers\n",
        "print(clients_frame.groupby('State').count().idxmin())\n",
        "\n"
      ]
    },
    {
      "cell_type": "markdown",
      "metadata": {
        "id": "h6fIy7hXHF6A"
      },
      "source": [
        "**Question 5:** What is the most common last name?"
      ]
    },
    {
      "cell_type": "code",
      "execution_count": 68,
      "metadata": {
        "id": "k8M1DmA75Km7",
        "colab": {
          "base_uri": "https://localhost:8080/"
        },
        "outputId": "cbefa07d-f282-4b3c-d85b-1a120f8f6c35"
      },
      "outputs": [
        {
          "output_type": "stream",
          "name": "stdout",
          "text": [
            "           CustomerID  FirstName  City  State\n",
            "LastName                                     \n",
            "Smith               8          8     8      8\n",
            "Doggett             5          5     5      5\n",
            "Zambrana            5          5     5      5\n",
            "Gomez               5          5     5      5\n",
            "Johnson             4          4     4      4\n",
            "...               ...        ...   ...    ...\n",
            "Maye                1          1     1      1\n",
            "DePland             1          1     1      1\n",
            "Mathewson           1          1     1      1\n",
            "Mather              1          1     1      1\n",
            "Oquinn              1          1     1      1\n",
            "\n",
            "[424 rows x 4 columns]\n",
            "CustomerID    Smith\n",
            "FirstName     Smith\n",
            "City          Smith\n",
            "State         Smith\n",
            "dtype: object\n"
          ]
        }
      ],
      "source": [
        "#Data vizu to get a better undestanding\n",
        "print(clients_frame.groupby('LastName').count().sort_values('CustomerID',ascending=False))\n",
        "\n",
        "#print the most common last name \n",
        "print(clients_frame.groupby('LastName').count().idxmax())\n"
      ]
    },
    {
      "cell_type": "markdown",
      "metadata": {
        "id": "YPRma1t9NoFk"
      },
      "source": [
        "# Exercise 2: Processing Orders data (difficulty high)\n",
        "\n",
        "The second sample files contains orders placed by customers from the first file. Be careful, this file has many rows and you most likely should not print the contents of the whole file. \n",
        "\n",
        "The file contains the following columns: CustomerID, OrderID, Date, OrderTotal, ProductName, Price\n",
        "\n",
        "![Data sample](https://raw.githubusercontent.com/anyoneai/notebooks/main/customers_and_orders/images/orders.png)\n",
        "\n",
        "*Hint:* We advise you to take a look at the data before you start.\n",
        "**if you want to manually take a look at the data before you start, please see the content of the data [here](https://raw.githubusercontent.com/anyoneai/notebooks/main/customers_and_orders/data/orders.csv).\n",
        "\n",
        "*Hint*: There are many ways to do this exercise you can do your own, although here's some help. You can solve this exercise reading and parsing CSV files, structuring data into dictionaries, and using for loops to navigate the contents\n",
        "\n",
        "*Hint*: Also, the data is not clean and you will have to figure out how to deal with that data from the code, without having to modify the data source.\n",
        "\n",
        "\n",
        "\n",
        "**Question #1:** How many unique orders are in the orders.csv file?\n",
        "\n",
        "**Question #2:** What is the average number of items per order (rounded to two decimal places)?\n",
        "\n",
        "**Question #3:** What is the highest number of items per order?\n",
        "\n",
        "**Question #4:** What is the number of orders placed in October 2021?\n",
        "\n",
        "**Question #5:** Which customer spent the most amount of money in 2021?\n",
        "\n",
        "**Question #6:** Historically, what is the best month for sales?\n",
        "\n",
        "Once you get your answers, remember to go back to the course and introduce them in the multiple choice quiz"
      ]
    },
    {
      "cell_type": "code",
      "execution_count": 77,
      "metadata": {
        "id": "8ipJTrfs5QVM",
        "colab": {
          "base_uri": "https://localhost:8080/",
          "height": 206
        },
        "outputId": "73fffdfb-da86-4d2f-f4c2-20959930a046"
      },
      "outputs": [
        {
          "output_type": "execute_result",
          "data": {
            "text/plain": [
              "   CustomerID  OrderID                     Date  OrderTotal ProductName  Price\n",
              "0        8091  7742581  2021-07-26 14:40:10.783        95.0         Z03   90.0\n",
              "1      902139  7742778  2021-08-08 05:01:21.120        60.0    0844 A/C   60.0\n",
              "2     2300266  7742593  2021-07-27 11:00:16.020       185.0         M07   90.0\n",
              "3     2300266  7742593  2021-07-27 11:00:16.020       185.0         M09   90.0\n",
              "4     5173013  7742609  2021-07-28 14:26:13.930       165.0        0324  160.0"
            ],
            "text/html": [
              "\n",
              "  <div id=\"df-b949409d-e66c-484b-9864-f50ac5c46766\">\n",
              "    <div class=\"colab-df-container\">\n",
              "      <div>\n",
              "<style scoped>\n",
              "    .dataframe tbody tr th:only-of-type {\n",
              "        vertical-align: middle;\n",
              "    }\n",
              "\n",
              "    .dataframe tbody tr th {\n",
              "        vertical-align: top;\n",
              "    }\n",
              "\n",
              "    .dataframe thead th {\n",
              "        text-align: right;\n",
              "    }\n",
              "</style>\n",
              "<table border=\"1\" class=\"dataframe\">\n",
              "  <thead>\n",
              "    <tr style=\"text-align: right;\">\n",
              "      <th></th>\n",
              "      <th>CustomerID</th>\n",
              "      <th>OrderID</th>\n",
              "      <th>Date</th>\n",
              "      <th>OrderTotal</th>\n",
              "      <th>ProductName</th>\n",
              "      <th>Price</th>\n",
              "    </tr>\n",
              "  </thead>\n",
              "  <tbody>\n",
              "    <tr>\n",
              "      <th>0</th>\n",
              "      <td>8091</td>\n",
              "      <td>7742581</td>\n",
              "      <td>2021-07-26 14:40:10.783</td>\n",
              "      <td>95.0</td>\n",
              "      <td>Z03</td>\n",
              "      <td>90.0</td>\n",
              "    </tr>\n",
              "    <tr>\n",
              "      <th>1</th>\n",
              "      <td>902139</td>\n",
              "      <td>7742778</td>\n",
              "      <td>2021-08-08 05:01:21.120</td>\n",
              "      <td>60.0</td>\n",
              "      <td>0844 A/C</td>\n",
              "      <td>60.0</td>\n",
              "    </tr>\n",
              "    <tr>\n",
              "      <th>2</th>\n",
              "      <td>2300266</td>\n",
              "      <td>7742593</td>\n",
              "      <td>2021-07-27 11:00:16.020</td>\n",
              "      <td>185.0</td>\n",
              "      <td>M07</td>\n",
              "      <td>90.0</td>\n",
              "    </tr>\n",
              "    <tr>\n",
              "      <th>3</th>\n",
              "      <td>2300266</td>\n",
              "      <td>7742593</td>\n",
              "      <td>2021-07-27 11:00:16.020</td>\n",
              "      <td>185.0</td>\n",
              "      <td>M09</td>\n",
              "      <td>90.0</td>\n",
              "    </tr>\n",
              "    <tr>\n",
              "      <th>4</th>\n",
              "      <td>5173013</td>\n",
              "      <td>7742609</td>\n",
              "      <td>2021-07-28 14:26:13.930</td>\n",
              "      <td>165.0</td>\n",
              "      <td>0324</td>\n",
              "      <td>160.0</td>\n",
              "    </tr>\n",
              "  </tbody>\n",
              "</table>\n",
              "</div>\n",
              "      <button class=\"colab-df-convert\" onclick=\"convertToInteractive('df-b949409d-e66c-484b-9864-f50ac5c46766')\"\n",
              "              title=\"Convert this dataframe to an interactive table.\"\n",
              "              style=\"display:none;\">\n",
              "        \n",
              "  <svg xmlns=\"http://www.w3.org/2000/svg\" height=\"24px\"viewBox=\"0 0 24 24\"\n",
              "       width=\"24px\">\n",
              "    <path d=\"M0 0h24v24H0V0z\" fill=\"none\"/>\n",
              "    <path d=\"M18.56 5.44l.94 2.06.94-2.06 2.06-.94-2.06-.94-.94-2.06-.94 2.06-2.06.94zm-11 1L8.5 8.5l.94-2.06 2.06-.94-2.06-.94L8.5 2.5l-.94 2.06-2.06.94zm10 10l.94 2.06.94-2.06 2.06-.94-2.06-.94-.94-2.06-.94 2.06-2.06.94z\"/><path d=\"M17.41 7.96l-1.37-1.37c-.4-.4-.92-.59-1.43-.59-.52 0-1.04.2-1.43.59L10.3 9.45l-7.72 7.72c-.78.78-.78 2.05 0 2.83L4 21.41c.39.39.9.59 1.41.59.51 0 1.02-.2 1.41-.59l7.78-7.78 2.81-2.81c.8-.78.8-2.07 0-2.86zM5.41 20L4 18.59l7.72-7.72 1.47 1.35L5.41 20z\"/>\n",
              "  </svg>\n",
              "      </button>\n",
              "      \n",
              "  <style>\n",
              "    .colab-df-container {\n",
              "      display:flex;\n",
              "      flex-wrap:wrap;\n",
              "      gap: 12px;\n",
              "    }\n",
              "\n",
              "    .colab-df-convert {\n",
              "      background-color: #E8F0FE;\n",
              "      border: none;\n",
              "      border-radius: 50%;\n",
              "      cursor: pointer;\n",
              "      display: none;\n",
              "      fill: #1967D2;\n",
              "      height: 32px;\n",
              "      padding: 0 0 0 0;\n",
              "      width: 32px;\n",
              "    }\n",
              "\n",
              "    .colab-df-convert:hover {\n",
              "      background-color: #E2EBFA;\n",
              "      box-shadow: 0px 1px 2px rgba(60, 64, 67, 0.3), 0px 1px 3px 1px rgba(60, 64, 67, 0.15);\n",
              "      fill: #174EA6;\n",
              "    }\n",
              "\n",
              "    [theme=dark] .colab-df-convert {\n",
              "      background-color: #3B4455;\n",
              "      fill: #D2E3FC;\n",
              "    }\n",
              "\n",
              "    [theme=dark] .colab-df-convert:hover {\n",
              "      background-color: #434B5C;\n",
              "      box-shadow: 0px 1px 3px 1px rgba(0, 0, 0, 0.15);\n",
              "      filter: drop-shadow(0px 1px 2px rgba(0, 0, 0, 0.3));\n",
              "      fill: #FFFFFF;\n",
              "    }\n",
              "  </style>\n",
              "\n",
              "      <script>\n",
              "        const buttonEl =\n",
              "          document.querySelector('#df-b949409d-e66c-484b-9864-f50ac5c46766 button.colab-df-convert');\n",
              "        buttonEl.style.display =\n",
              "          google.colab.kernel.accessAllowed ? 'block' : 'none';\n",
              "\n",
              "        async function convertToInteractive(key) {\n",
              "          const element = document.querySelector('#df-b949409d-e66c-484b-9864-f50ac5c46766');\n",
              "          const dataTable =\n",
              "            await google.colab.kernel.invokeFunction('convertToInteractive',\n",
              "                                                     [key], {});\n",
              "          if (!dataTable) return;\n",
              "\n",
              "          const docLinkHtml = 'Like what you see? Visit the ' +\n",
              "            '<a target=\"_blank\" href=https://colab.research.google.com/notebooks/data_table.ipynb>data table notebook</a>'\n",
              "            + ' to learn more about interactive tables.';\n",
              "          element.innerHTML = '';\n",
              "          dataTable['output_type'] = 'display_data';\n",
              "          await google.colab.output.renderOutput(dataTable, element);\n",
              "          const docLink = document.createElement('div');\n",
              "          docLink.innerHTML = docLinkHtml;\n",
              "          element.appendChild(docLink);\n",
              "        }\n",
              "      </script>\n",
              "    </div>\n",
              "  </div>\n",
              "  "
            ]
          },
          "metadata": {},
          "execution_count": 77
        }
      ],
      "source": [
        "# open and evaluate orders.csv\n",
        "orders_frame = pd.read_csv('./sample_data/orders.csv')\n",
        "orders_frame.head()"
      ]
    },
    {
      "cell_type": "markdown",
      "source": [
        "###Question #1: How many unique orders are in the orders.csv file?"
      ],
      "metadata": {
        "id": "QqGVho_CNTKz"
      }
    },
    {
      "cell_type": "code",
      "source": [
        "unique_orders_total = len(orders_frame.OrderID.unique())\n",
        "print(f'There are {unique_orders_total} uniques orders in the csv file')"
      ],
      "metadata": {
        "colab": {
          "base_uri": "https://localhost:8080/"
        },
        "id": "g_RsLHOeNYxM",
        "outputId": "e75a837a-db73-42f9-a4fc-eba835441314"
      },
      "execution_count": 85,
      "outputs": [
        {
          "output_type": "stream",
          "name": "stdout",
          "text": [
            "There are 16672 uniques orders in the csv file\n"
          ]
        }
      ]
    },
    {
      "cell_type": "markdown",
      "source": [
        "###Question #2: What is the average number of items per order (rounded to two decimal places)?"
      ],
      "metadata": {
        "id": "piilyeCDNZMc"
      }
    },
    {
      "cell_type": "code",
      "source": [
        "#we can get the avg number of item as follow: total orders (total items) / unique orders \n",
        "total_orders = orders_frame.shape[0] \n",
        "avg_item = (total_orders / unique_orders_total)\n",
        "print( f'The average of items per order is {round(avg_item,2)}')"
      ],
      "metadata": {
        "colab": {
          "base_uri": "https://localhost:8080/"
        },
        "id": "_Ja37K0tNhum",
        "outputId": "a329fc4d-dcd6-4d71-d08e-6b02e52d57c1"
      },
      "execution_count": 89,
      "outputs": [
        {
          "output_type": "stream",
          "name": "stdout",
          "text": [
            "The average of items per order is 1.76\n"
          ]
        }
      ]
    },
    {
      "cell_type": "markdown",
      "source": [
        "###Question #3: What is the highest number of items per order?"
      ],
      "metadata": {
        "id": "irEcxxLlNjMA"
      }
    },
    {
      "cell_type": "code",
      "source": [
        "#Viz the data:\n",
        "print(orders_frame.groupby('OrderID').count().sort_values('CustomerID',ascending=False).head())\n",
        "\n",
        "#get the order id \n",
        "print(f\"The highest number of items in a order was: {orders_frame.groupby('OrderID').count().sort_values('CustomerID',ascending=False).iloc[0,1]}\")"
      ],
      "metadata": {
        "colab": {
          "base_uri": "https://localhost:8080/"
        },
        "id": "agBZ7AElNkUO",
        "outputId": "499c9a83-e5e7-4039-938c-8f3904ccf663"
      },
      "execution_count": 103,
      "outputs": [
        {
          "output_type": "stream",
          "name": "stdout",
          "text": [
            "         CustomerID  Date  OrderTotal  ProductName  Price\n",
            "OrderID                                                  \n",
            "5802666          35    35          35           35     35\n",
            "7411097          30    30          30           30     30\n",
            "7553706          30    30          30           30     30\n",
            "7001632          30    30          30           30     30\n",
            "7005266          28    28          28           28     28\n",
            "The highest number of items in a order was: 35\n"
          ]
        }
      ]
    },
    {
      "cell_type": "markdown",
      "source": [
        "###Question #4: What is the number of orders placed in October 2021?"
      ],
      "metadata": {
        "id": "SXyJ4m9_NkaJ"
      }
    },
    {
      "cell_type": "code",
      "source": [
        "#lets see how many missing values there are in the data frame\n",
        "print(orders_frame.isna().sum())\n",
        "#Feature Date is missing 2142 values, lets drop them from the dataframe to continue the question\n",
        "\n",
        "new_orders_frame = orders_frame.dropna()\n",
        "#and now lets see if there are missing values in the new data frame\n",
        "print('\\n')\n",
        "print(+new_orders_frame.isna().sum())\n",
        "#now that the data frame is clean from missing values, lets calculate the number of orders placed in october 2021\n",
        "\n",
        "\n",
        "october_orders = new_orders_frame[new_orders_frame.Date.str.contains('2021-10')]\n",
        "print(f'\\nThe total numbers of orders placed in 2021 october were: {october_orders.shape[0]}')"
      ],
      "metadata": {
        "colab": {
          "base_uri": "https://localhost:8080/"
        },
        "id": "fhxKh7hBNnFU",
        "outputId": "986ffcee-20c2-4ccb-d9bd-a4fa2785fa5e"
      },
      "execution_count": 121,
      "outputs": [
        {
          "output_type": "stream",
          "name": "stdout",
          "text": [
            "CustomerID        0\n",
            "OrderID           0\n",
            "Date           2142\n",
            "OrderTotal        0\n",
            "ProductName       0\n",
            "Price             0\n",
            "dtype: int64\n",
            "\n",
            "\n",
            "CustomerID     0\n",
            "OrderID        0\n",
            "Date           0\n",
            "OrderTotal     0\n",
            "ProductName    0\n",
            "Price          0\n",
            "dtype: int64\n",
            "\n",
            "The total numbers of orders placed in 2021 october were: 437\n"
          ]
        }
      ]
    },
    {
      "cell_type": "markdown",
      "source": [
        "###Question #5: Which customer spent the most amount of money in 2021?"
      ],
      "metadata": {
        "id": "abu3lGjyNnk9"
      }
    },
    {
      "cell_type": "code",
      "source": [
        "# lets continue to use the data frame without missing dates\n",
        "orders_2021 = new_orders_frame[new_orders_frame.Date.str.contains('2021')]\n",
        "#viz the data frame\n",
        "print(orders_2021.groupby('CustomerID')['OrderTotal','Price'].sum().sort_values('Price',ascending=False).head())\n",
        "\n",
        "#get the customerID with most spent amount of money in 2021\n",
        "print('\\n')\n",
        "print(orders_2021.groupby('CustomerID')['Price'].sum().idxmax())\n",
        "\n",
        "\n",
        "\n",
        "\n"
      ],
      "metadata": {
        "colab": {
          "base_uri": "https://localhost:8080/"
        },
        "id": "O5HYYiiINp6J",
        "outputId": "d08e1014-d4a4-49ae-9772-8792514ff482"
      },
      "execution_count": 140,
      "outputs": [
        {
          "output_type": "stream",
          "name": "stdout",
          "text": [
            "            OrderTotal   Price\n",
            "CustomerID                    \n",
            "5172443        27990.0  7675.0\n",
            "1907160        11220.0  5485.0\n",
            "5464           56170.0  5470.0\n",
            "5100984        13900.0  5225.0\n",
            "4300438        15454.0  4960.0\n",
            "\n",
            "\n",
            "5172443\n"
          ]
        },
        {
          "output_type": "stream",
          "name": "stderr",
          "text": [
            "<ipython-input-140-0fcf3ef050fb>:4: FutureWarning: Indexing with multiple keys (implicitly converted to a tuple of keys) will be deprecated, use a list instead.\n",
            "  print(orders_2021.groupby('CustomerID')['OrderTotal','Price'].sum().sort_values('Price',ascending=False).head())\n"
          ]
        }
      ]
    },
    {
      "cell_type": "markdown",
      "source": [
        "###Question #6: Historically, what is the best month for sales?"
      ],
      "metadata": {
        "id": "7yto3ODeNqAF"
      }
    },
    {
      "cell_type": "code",
      "source": [
        "import datetime\n",
        "#lets use the data frame without missing dates\n",
        "\n",
        "months = [datetime.datetime.strptime(date,'%Y-%m-%d %H:%M:%S.%f').month for date in new_orders_frame.Date]\n",
        "new_orders_frame['Month'] = months\n",
        "\n",
        "print(new_orders_frame.groupby('Month')['OrderTotal','Price'].sum().sort_values('Price',ascending=False))"
      ],
      "metadata": {
        "colab": {
          "base_uri": "https://localhost:8080/"
        },
        "id": "FVXQuwfwNsPx",
        "outputId": "baed32bb-2579-4365-94d5-8403b9cb9a7a"
      },
      "execution_count": 154,
      "outputs": [
        {
          "output_type": "stream",
          "name": "stdout",
          "text": [
            "       OrderTotal     Price\n",
            "Month                      \n",
            "1        858727.0  287515.0\n",
            "11       745817.0  232065.0\n",
            "10       597649.0  231305.0\n",
            "2        831150.0  226005.0\n",
            "6        753265.0  218700.0\n",
            "5        798050.0  215685.0\n",
            "9        747421.0  214075.0\n",
            "8        575493.0  213608.0\n",
            "12       510948.0  209475.0\n",
            "4        560733.0  205135.0\n",
            "3        556715.0  200660.0\n",
            "7        585495.0  199040.0\n"
          ]
        },
        {
          "output_type": "stream",
          "name": "stderr",
          "text": [
            "<ipython-input-154-9e9160c95878>:5: SettingWithCopyWarning: \n",
            "A value is trying to be set on a copy of a slice from a DataFrame.\n",
            "Try using .loc[row_indexer,col_indexer] = value instead\n",
            "\n",
            "See the caveats in the documentation: https://pandas.pydata.org/pandas-docs/stable/user_guide/indexing.html#returning-a-view-versus-a-copy\n",
            "  new_orders_frame['Month'] = months\n",
            "<ipython-input-154-9e9160c95878>:7: FutureWarning: Indexing with multiple keys (implicitly converted to a tuple of keys) will be deprecated, use a list instead.\n",
            "  print(new_orders_frame.groupby('Month')['OrderTotal','Price'].sum().sort_values('Price',ascending=False))\n"
          ]
        }
      ]
    },
    {
      "cell_type": "markdown",
      "metadata": {
        "id": "ie0JW4FAk6Os"
      },
      "source": [
        "# Finished!\n",
        "\n",
        "Hope this was not too difficult and slicing and dicing the datasets was some fun. Now head on back to the course and provide the answers to the questions from this exercise."
      ]
    }
  ],
  "metadata": {
    "colab": {
      "name": "customers_and_orders.ipynb",
      "provenance": []
    },
    "kernelspec": {
      "display_name": "Python 3 (ipykernel)",
      "language": "python",
      "name": "python3"
    },
    "language_info": {
      "codemirror_mode": {
        "name": "ipython",
        "version": 3
      },
      "file_extension": ".py",
      "mimetype": "text/x-python",
      "name": "python",
      "nbconvert_exporter": "python",
      "pygments_lexer": "ipython3",
      "version": "3.9.9"
    }
  },
  "nbformat": 4,
  "nbformat_minor": 0
}